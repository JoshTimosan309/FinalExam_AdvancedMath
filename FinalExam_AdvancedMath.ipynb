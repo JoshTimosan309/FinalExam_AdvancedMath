{
  "nbformat": 4,
  "nbformat_minor": 0,
  "metadata": {
    "colab": {
      "provenance": []
    },
    "kernelspec": {
      "name": "python3",
      "display_name": "Python 3"
    },
    "language_info": {
      "name": "python"
    }
  },
  "cells": [
    {
      "cell_type": "code",
      "execution_count": 7,
      "metadata": {
        "colab": {
          "base_uri": "https://localhost:8080/"
        },
        "id": "jDuruQTc8cNo",
        "outputId": "4740b6c7-89a4-46c2-ab32-8d53742f5d34"
      },
      "outputs": [
        {
          "output_type": "stream",
          "name": "stdout",
          "text": [
            "Generated 3x4 Matrix:\n",
            "[[ 7 20 15 11]\n",
            " [ 8  7 19 11]\n",
            " [11  4  8  3]]\n",
            "\n",
            "Coefficient Matrix (A):\n",
            "[[ 7 20 15]\n",
            " [ 8  7 19]\n",
            " [11  4  8]]\n",
            "\n",
            "Right-hand Side Vector (b):\n",
            "[11 11  3]\n"
          ]
        }
      ],
      "source": [
        "import numpy as np\n",
        "\n",
        "# Step 1: Generate a random 3x4 matrix\n",
        "np.random.seed(42)  # Ensures reproducibility for testing\n",
        "matrix_3x4 = np.random.randint(1, 21, size=(3, 4))  # Generates random integers in the range [1, 20]\n",
        "\n",
        "# Extract coefficient matrix (A) and right-hand side vector (b)\n",
        "A = matrix_3x4[:, :3]\n",
        "b = matrix_3x4[:, 3]\n",
        "\n",
        "# Display the generated matrix and its components\n",
        "print(\"Generated 3x4 Matrix:\")\n",
        "print(matrix_3x4)\n",
        "print(\"\\nCoefficient Matrix (A):\")\n",
        "print(A)\n",
        "print(\"\\nRight-hand Side Vector (b):\")\n",
        "print(b)\n",
        "\n",
        "\n"
      ]
    },
    {
      "cell_type": "code",
      "source": [
        "# Solve using Matrix Inverse Method\n",
        "try:\n",
        "    A_inv = np.linalg.inv(A)  # Compute A^-1\n",
        "    x_inverse = np.dot(A_inv, b)  # Compute solution x = A^-1 * b\n",
        "    print(\"\\nSolution using Matrix Inverse Method:\")\n",
        "    print(x_inverse)\n",
        "except np.linalg.LinAlgError:\n",
        "    print(\"\\nMatrix A is singular and cannot be inverted.\")\n",
        "\n"
      ],
      "metadata": {
        "colab": {
          "base_uri": "https://localhost:8080/"
        },
        "id": "uht4QKHkdXFp",
        "outputId": "53610371-7e7a-4524-c084-b96d591ea783"
      },
      "execution_count": 8,
      "outputs": [
        {
          "output_type": "stream",
          "name": "stdout",
          "text": [
            "\n",
            "Solution using Matrix Inverse Method:\n",
            "[-0.23741007  0.17122302  0.61582734]\n"
          ]
        }
      ]
    },
    {
      "cell_type": "code",
      "source": [
        "# Solve using Gaussian Elimination\n",
        "try:\n",
        "    x_gaussian = np.linalg.solve(A, b)  # Directly solve Ax = b\n",
        "    print(\"\\nSolution using Gaussian Elimination (NumPy):\")\n",
        "    print(x_gaussian)\n",
        "except np.linalg.LinAlgError:\n",
        "    print(\"\\nMatrix A is singular or not square.\")\n",
        "\n"
      ],
      "metadata": {
        "colab": {
          "base_uri": "https://localhost:8080/"
        },
        "id": "ALrGcurxdcGW",
        "outputId": "8e9fe816-3946-4384-b486-c382f1faf5b8"
      },
      "execution_count": 9,
      "outputs": [
        {
          "output_type": "stream",
          "name": "stdout",
          "text": [
            "\n",
            "Solution using Gaussian Elimination (NumPy):\n",
            "[-0.23741007  0.17122302  0.61582734]\n"
          ]
        }
      ]
    },
    {
      "cell_type": "code",
      "source": [
        "# Verify the solution\n",
        "if 'x_gaussian' in locals():\n",
        "    b_check = np.dot(A, x_gaussian)  # Recompute b using A and the computed x\n",
        "    print(\"\\nVerification (Ax = b):\")\n",
        "    print(b_check)"
      ],
      "metadata": {
        "colab": {
          "base_uri": "https://localhost:8080/"
        },
        "id": "yjlxxzNhddD1",
        "outputId": "3ae28010-fda3-421d-cb17-c224ff014a6d"
      },
      "execution_count": 10,
      "outputs": [
        {
          "output_type": "stream",
          "name": "stdout",
          "text": [
            "\n",
            "Verification (Ax = b):\n",
            "[11. 11.  3.]\n"
          ]
        }
      ]
    }
  ]
}